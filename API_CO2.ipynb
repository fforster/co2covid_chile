{
 "cells": [
  {
   "cell_type": "markdown",
   "metadata": {},
   "source": [
    "# CO2 API test notebook\n",
    "Query and plot data from a given device in a given time interval"
   ]
  },
  {
   "cell_type": "code",
   "execution_count": 114,
   "metadata": {
    "ExecuteTime": {
     "end_time": "2021-03-26T22:01:05.465922Z",
     "start_time": "2021-03-26T22:01:05.459047Z"
    }
   },
   "outputs": [],
   "source": [
    "import requests\n",
    "import pandas as pd\n",
    "import matplotlib.pyplot as plt\n",
    "from datetime import datetime"
   ]
  },
  {
   "cell_type": "markdown",
   "metadata": {},
   "source": [
    "# API url"
   ]
  },
  {
   "cell_type": "code",
   "execution_count": 115,
   "metadata": {
    "ExecuteTime": {
     "end_time": "2021-03-26T22:01:06.223083Z",
     "start_time": "2021-03-26T22:01:06.216801Z"
    }
   },
   "outputs": [],
   "source": [
    "api_url = \"https://8du9q3bcpj.execute-api.us-east-2.amazonaws.com/dev\"\n",
    "api_func = \"co2\""
   ]
  },
  {
   "cell_type": "markdown",
   "metadata": {},
   "source": [
    "# Input parameters"
   ]
  },
  {
   "cell_type": "code",
   "execution_count": 116,
   "metadata": {
    "ExecuteTime": {
     "end_time": "2021-03-26T22:01:11.878381Z",
     "start_time": "2021-03-26T22:01:11.875934Z"
    }
   },
   "outputs": [],
   "source": [
    "device_id = \"0\"\n",
    "min_isotime = \"2021-03-25T16:00:00\"\n",
    "max_isotime = \"2021-03-26T22:00:00\""
   ]
  },
  {
   "cell_type": "markdown",
   "metadata": {},
   "source": [
    "# Read data"
   ]
  },
  {
   "cell_type": "code",
   "execution_count": 117,
   "metadata": {
    "ExecuteTime": {
     "end_time": "2021-03-26T22:01:30.567858Z",
     "start_time": "2021-03-26T22:01:12.887679Z"
    }
   },
   "outputs": [
    {
     "name": "stdout",
     "output_type": "stream",
     "text": [
      "Querying next page starting at 2021-03-25T14:45:35.869000\n",
      "Querying next page starting at 2021-03-25T16:31:30.776000\n",
      "Querying next page starting at 2021-03-25T18:17:24.283000\n",
      "Querying next page starting at 2021-03-25T20:03:26.747000\n",
      "Querying next page starting at 2021-03-25T21:49:25.151000\n",
      "Querying next page starting at 2021-03-25T23:35:16.351000\n",
      "Querying next page starting at 2021-03-26T01:21:13.667000\n",
      "Querying next page starting at 2021-03-26T03:08:31.373000\n",
      "Querying next page starting at 2021-03-26T04:56:12.459000\n",
      "Querying next page starting at 2021-03-26T06:42:10.686000\n",
      "Querying next page starting at 2021-03-26T08:28:09.884000\n",
      "Querying next page starting at 2021-03-26T10:14:02.310000\n",
      "Querying next page starting at 2021-03-26T12:00:08.826000\n",
      "Querying next page starting at 2021-03-26T13:46:49.473000\n"
     ]
    },
    {
     "data": {
      "text/html": [
       "<div>\n",
       "<style scoped>\n",
       "    .dataframe tbody tr th:only-of-type {\n",
       "        vertical-align: middle;\n",
       "    }\n",
       "\n",
       "    .dataframe tbody tr th {\n",
       "        vertical-align: top;\n",
       "    }\n",
       "\n",
       "    .dataframe thead th {\n",
       "        text-align: right;\n",
       "    }\n",
       "</style>\n",
       "<table border=\"1\" class=\"dataframe\">\n",
       "  <thead>\n",
       "    <tr style=\"text-align: right;\">\n",
       "      <th></th>\n",
       "      <th>timestamp</th>\n",
       "      <th>isotime</th>\n",
       "      <th>device_id</th>\n",
       "      <th>co2</th>\n",
       "      <th>temperature</th>\n",
       "      <th>humidity</th>\n",
       "    </tr>\n",
       "  </thead>\n",
       "  <tbody>\n",
       "    <tr>\n",
       "      <th>0</th>\n",
       "      <td>1616688001040</td>\n",
       "      <td>2021-03-25T16:00:01.040000</td>\n",
       "      <td>0</td>\n",
       "      <td>-99</td>\n",
       "      <td>22.6</td>\n",
       "      <td>53</td>\n",
       "    </tr>\n",
       "    <tr>\n",
       "      <th>1</th>\n",
       "      <td>1616688013603</td>\n",
       "      <td>2021-03-25T16:00:13.603000</td>\n",
       "      <td>0</td>\n",
       "      <td>-99</td>\n",
       "      <td>22.7</td>\n",
       "      <td>53</td>\n",
       "    </tr>\n",
       "    <tr>\n",
       "      <th>2</th>\n",
       "      <td>1616688026304</td>\n",
       "      <td>2021-03-25T16:00:26.304000</td>\n",
       "      <td>0</td>\n",
       "      <td>-99</td>\n",
       "      <td>22.7</td>\n",
       "      <td>53</td>\n",
       "    </tr>\n",
       "    <tr>\n",
       "      <th>3</th>\n",
       "      <td>1616688038945</td>\n",
       "      <td>2021-03-25T16:00:38.945000</td>\n",
       "      <td>0</td>\n",
       "      <td>-99</td>\n",
       "      <td>22.7</td>\n",
       "      <td>53</td>\n",
       "    </tr>\n",
       "    <tr>\n",
       "      <th>4</th>\n",
       "      <td>1616688051697</td>\n",
       "      <td>2021-03-25T16:00:51.697000</td>\n",
       "      <td>0</td>\n",
       "      <td>-99</td>\n",
       "      <td>22.7</td>\n",
       "      <td>53</td>\n",
       "    </tr>\n",
       "  </tbody>\n",
       "</table>\n",
       "</div>"
      ],
      "text/plain": [
       "       timestamp                     isotime device_id  co2 temperature  \\\n",
       "0  1616688001040  2021-03-25T16:00:01.040000         0  -99        22.6   \n",
       "1  1616688013603  2021-03-25T16:00:13.603000         0  -99        22.7   \n",
       "2  1616688026304  2021-03-25T16:00:26.304000         0  -99        22.7   \n",
       "3  1616688038945  2021-03-25T16:00:38.945000         0  -99        22.7   \n",
       "4  1616688051697  2021-03-25T16:00:51.697000         0  -99        22.7   \n",
       "\n",
       "  humidity  \n",
       "0       53  \n",
       "1       53  \n",
       "2       53  \n",
       "3       53  \n",
       "4       53  "
      ]
     },
     "execution_count": 117,
     "metadata": {},
     "output_type": "execute_result"
    }
   ],
   "source": [
    "df = []\n",
    "response = requests.get(\"%s/%s?device_id=%s&min_isotime=%s&max_isotime=%s\" % (api_url, api_func, device_id, min_isotime, max_isotime)).json()\n",
    "df.append(pd.DataFrame(response[\"data\"]))\n",
    "while \"next_url\" in response.keys():\n",
    "    next_url = response[\"next_url\"]\n",
    "    print(\"Querying next page starting at %s\" % datetime.fromtimestamp(int(next_url[-13:]) / 1000).isoformat())\n",
    "    response = requests.get(response[\"next_url\"]).json()    \n",
    "    df.append(pd.DataFrame(response[\"data\"]))\n",
    "df = pd.concat(df)\n",
    "df.head()"
   ]
  },
  {
   "cell_type": "markdown",
   "metadata": {},
   "source": [
    "# Convert columns to numbers"
   ]
  },
  {
   "cell_type": "code",
   "execution_count": 118,
   "metadata": {
    "ExecuteTime": {
     "end_time": "2021-03-26T22:01:34.087758Z",
     "start_time": "2021-03-26T22:01:33.300833Z"
    }
   },
   "outputs": [],
   "source": [
    "df[\"isotime\"] = df.isotime.apply(pd.to_datetime)\n",
    "for key in [\"timestamp\", \"device_id\", \"co2\", \"temperature\", \"humidity\"]:\n",
    "    df[key] = pd.to_numeric(df[key])"
   ]
  },
  {
   "cell_type": "markdown",
   "metadata": {},
   "source": [
    "# Plot data"
   ]
  },
  {
   "cell_type": "code",
   "execution_count": 119,
   "metadata": {
    "ExecuteTime": {
     "end_time": "2021-03-26T22:01:35.143917Z",
     "start_time": "2021-03-26T22:01:34.801884Z"
    }
   },
   "outputs": [
    {
     "data": {
      "text/plain": [
       "<matplotlib.legend.Legend at 0x7f1d648ad898>"
      ]
     },
     "execution_count": 119,
     "metadata": {},
     "output_type": "execute_result"
    },
    {
     "data": {
      "image/png": "[encoded data removed]",
      "text/plain": [
       "<Figure size 864x504 with 2 Axes>"
      ]
     },
     "metadata": {
      "needs_background": "light"
     },
     "output_type": "display_data"
    }
   ],
   "source": [
    "fig, ax = plt.subplots(figsize=(12, 7))\n",
    "ax.plot(df.isotime, df.temperature, c=\"r\", label=\"Temperature\")\n",
    "ax.set_xlabel(\"UTC Time\", fontsize=18)\n",
    "ax.set_ylabel(\"Temperature [C]\", fontsize=18)\n",
    "ax2 = ax.twinx()\n",
    "ax2.plot(df.isotime, df.humidity, c=\"b\", label=\"Humidity\")\n",
    "ax2.set_ylabel(\"Humidity [%]\", fontsize=18)\n",
    "ax.legend(fontsize=18, loc=3)\n",
    "ax2.legend(fontsize=18, loc=1)"
   ]
  },
  {
   "cell_type": "code",
   "execution_count": null,
   "metadata": {},
   "outputs": [],
   "source": []
  }
 ],
 "metadata": {
  "kernelspec": {
   "display_name": "Python 3",
   "language": "python",
   "name": "python3"
  },
  "language_info": {
   "codemirror_mode": {
    "name": "ipython",
    "version": 3
   },
   "file_extension": ".py",
   "mimetype": "text/x-python",
   "name": "python",
   "nbconvert_exporter": "python",
   "pygments_lexer": "ipython3",
   "version": "3.6.5"
  },
  "toc": {
   "base_numbering": 1,
   "nav_menu": {},
   "number_sections": true,
   "sideBar": true,
   "skip_h1_title": false,
   "title_cell": "Table of Contents",
   "title_sidebar": "Contents",
   "toc_cell": false,
   "toc_position": {},
   "toc_section_display": true,
   "toc_window_display": true
  }
 },
 "nbformat": 4,
 "nbformat_minor": 2
}
